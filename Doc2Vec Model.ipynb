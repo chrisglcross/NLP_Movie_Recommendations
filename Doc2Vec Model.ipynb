{
 "cells": [
  {
   "cell_type": "code",
   "execution_count": 1,
   "metadata": {},
   "outputs": [
    {
     "name": "stderr",
     "output_type": "stream",
     "text": [
      "C:\\Program Files (x86)\\Microsoft Visual Studio\\Shared\\Anaconda3_64\\lib\\site-packages\\h5py\\__init__.py:36: FutureWarning: Conversion of the second argument of issubdtype from `float` to `np.floating` is deprecated. In future, it will be treated as `np.float64 == np.dtype(float).type`.\n",
      "  from ._conv import register_converters as _register_converters\n"
     ]
    }
   ],
   "source": [
    "import pandas as pd\n",
    "from rake_nltk import Rake\n",
    "import numpy as np\n",
    "from sklearn.metrics.pairwise import cosine_similarity\n",
    "from sklearn.feature_extraction.text import CountVectorizer\n",
    "import gensim, logging, os, re, string, tensorflow\n",
    "import tensorflow as tf\n",
    "from tensorflow.contrib.tensorboard.plugins import projector\n",
    "from gensim.utils import simple_preprocess"
   ]
  },
  {
   "cell_type": "code",
   "execution_count": 4,
   "metadata": {},
   "outputs": [],
   "source": [
    "file = open(\"movies.txt\", errors = 'ignore')\n",
    "x = [word for word in file if (word.startswith('review/text') or word.startswith('product/productId') )]"
   ]
  },
  {
   "cell_type": "code",
   "execution_count": 12,
   "metadata": {},
   "outputs": [],
   "source": [
    "tags = x[::2]\n",
    "movies = x[1::2]"
   ]
  },
  {
   "cell_type": "code",
   "execution_count": 46,
   "metadata": {},
   "outputs": [],
   "source": [
    "data = pd.DataFrame(\n",
    "    {'product': tags,\n",
    "     'movies': movies\n",
    "    })"
   ]
  },
  {
   "cell_type": "code",
   "execution_count": 59,
   "metadata": {
    "scrolled": true
   },
   "outputs": [
    {
     "data": {
      "text/html": [
       "<div>\n",
       "<style scoped>\n",
       "    .dataframe tbody tr th:only-of-type {\n",
       "        vertical-align: middle;\n",
       "    }\n",
       "\n",
       "    .dataframe tbody tr th {\n",
       "        vertical-align: top;\n",
       "    }\n",
       "\n",
       "    .dataframe thead th {\n",
       "        text-align: right;\n",
       "    }\n",
       "</style>\n",
       "<table border=\"1\" class=\"dataframe\">\n",
       "  <thead>\n",
       "    <tr style=\"text-align: right;\">\n",
       "      <th></th>\n",
       "      <th>product</th>\n",
       "      <th>movies</th>\n",
       "    </tr>\n",
       "  </thead>\n",
       "  <tbody>\n",
       "    <tr>\n",
       "      <th>71</th>\n",
       "      <td>product/productId: B000063W1R\\n</td>\n",
       "      <td>review/text: This is one of my all-time favori...</td>\n",
       "    </tr>\n",
       "    <tr>\n",
       "      <th>72</th>\n",
       "      <td>product/productId: B000063W1R\\n</td>\n",
       "      <td>review/text: LOVE this movie - loved it when i...</td>\n",
       "    </tr>\n",
       "    <tr>\n",
       "      <th>73</th>\n",
       "      <td>product/productId: B000063W1R\\n</td>\n",
       "      <td>review/text: This movie has everything I like:...</td>\n",
       "    </tr>\n",
       "    <tr>\n",
       "      <th>74</th>\n",
       "      <td>product/productId: B000063W1R\\n</td>\n",
       "      <td>review/text: Great Blu-ray DVD for the price! ...</td>\n",
       "    </tr>\n",
       "    <tr>\n",
       "      <th>75</th>\n",
       "      <td>product/productId: B000063W1R\\n</td>\n",
       "      <td>review/text: I love this movie! Sure, the acti...</td>\n",
       "    </tr>\n",
       "  </tbody>\n",
       "</table>\n",
       "</div>"
      ],
      "text/plain": [
       "                            product  \\\n",
       "71  product/productId: B000063W1R\\n   \n",
       "72  product/productId: B000063W1R\\n   \n",
       "73  product/productId: B000063W1R\\n   \n",
       "74  product/productId: B000063W1R\\n   \n",
       "75  product/productId: B000063W1R\\n   \n",
       "\n",
       "                                               movies  \n",
       "71  review/text: This is one of my all-time favori...  \n",
       "72  review/text: LOVE this movie - loved it when i...  \n",
       "73  review/text: This movie has everything I like:...  \n",
       "74  review/text: Great Blu-ray DVD for the price! ...  \n",
       "75  review/text: I love this movie! Sure, the acti...  "
      ]
     },
     "execution_count": 59,
     "metadata": {},
     "output_type": "execute_result"
    }
   ],
   "source": [
    "a = data.groupby(\"product\").filter(lambda x: len(x) > 200)\n",
    "a.head()"
   ]
  },
  {
   "cell_type": "code",
   "execution_count": 63,
   "metadata": {},
   "outputs": [
    {
     "data": {
      "text/plain": [
       "product/productId: B002QZ1RS6\\n    957\n",
       "product/productId: B007FQDPL8\\n    956\n",
       "product/productId: B001KZG99A\\n    925\n",
       "product/productId: B001GAPC1K\\n    925\n",
       "product/productId: B00005JPS8\\n    925\n",
       "product/productId: B001I1NGHY\\n    925\n",
       "product/productId: B001C08RHA\\n    925\n",
       "product/productId: B001FD5KJM\\n    925\n",
       "product/productId: B004JMSIRC\\n    924\n",
       "product/productId: B001FZ9AAU\\n    924\n",
       "product/productId: B001HUHBE0\\n    924\n",
       "product/productId: B000H7I6CU\\n    904\n",
       "product/productId: B002LW9ITY\\n    902\n",
       "product/productId: B000ENV5WK\\n    902\n",
       "product/productId: 7883685635\\n    902\n",
       "product/productId: B004I654WQ\\n    902\n",
       "product/productId: B004OBQDJ8\\n    902\n",
       "product/productId: B000V1Y43W\\n    902\n",
       "product/productId: B000H5U832\\n    902\n",
       "product/productId: B0049J3QF4\\n    902\n",
       "product/productId: B00005JNS0\\n    902\n",
       "product/productId: B005ZMUQCK\\n    902\n",
       "product/productId: B001DWNUE2\\n    886\n",
       "product/productId: B008UBYTRG\\n    886\n",
       "product/productId: B000S6LS66\\n    886\n",
       "product/productId: B000W494SI\\n    886\n",
       "product/productId: B000W4B0Z8\\n    886\n",
       "product/productId: B002VRZEYM\\n    876\n",
       "product/productId: B0027BOL4G\\n    876\n",
       "product/productId: B002UZ5CHO\\n    876\n",
       "                                  ... \n",
       "product/productId: B00005BAIN\\n    201\n",
       "product/productId: B00003CXXU\\n    201\n",
       "product/productId: B00008GKEG\\n    201\n",
       "product/productId: B00005Q4H0\\n    201\n",
       "product/productId: B000MMMTC8\\n    201\n",
       "product/productId: B00003CXOO\\n    201\n",
       "product/productId: B00003CY27\\n    201\n",
       "product/productId: 6305222916\\n    201\n",
       "product/productId: B004BGJWVM\\n    201\n",
       "product/productId: B006P5AU54\\n    201\n",
       "product/productId: B001AGNMGC\\n    201\n",
       "product/productId: 0783223226\\n    201\n",
       "product/productId: B000062XGX\\n    201\n",
       "product/productId: B00005RDQQ\\n    201\n",
       "product/productId: B00157TR6U\\n    201\n",
       "product/productId: B001VLM47O\\n    201\n",
       "product/productId: B000E1NXAY\\n    201\n",
       "product/productId: 6304744404\\n    201\n",
       "product/productId: B00008G7W0\\n    201\n",
       "product/productId: B00004R6AJ\\n    201\n",
       "product/productId: B00009V7OV\\n    201\n",
       "product/productId: 6304744412\\n    201\n",
       "product/productId: B000AY3KN0\\n    201\n",
       "product/productId: 630416923X\\n    201\n",
       "product/productId: B000E6ES7G\\n    201\n",
       "product/productId: B000K7VHHS\\n    201\n",
       "product/productId: B00005RDQR\\n    201\n",
       "product/productId: B0002ADWT4\\n    201\n",
       "product/productId: B0000505GV\\n    201\n",
       "product/productId: B000077VSJ\\n    201\n",
       "Name: product, Length: 8662, dtype: int64"
      ]
     },
     "execution_count": 63,
     "metadata": {},
     "output_type": "execute_result"
    }
   ],
   "source": [
    "a['product'].value_counts()"
   ]
  },
  {
   "cell_type": "code",
   "execution_count": 65,
   "metadata": {},
   "outputs": [],
   "source": [
    "atags = a[\"product\"].values\n",
    "amovies = a[\"movies\"].values"
   ]
  },
  {
   "cell_type": "code",
   "execution_count": 68,
   "metadata": {},
   "outputs": [
    {
     "data": {
      "text/plain": [
       "\"review/text: This is one of my all-time favorite movies for escaping from worldly work.  Jim Caviezel and Guy Pierce have great chemistry and the trials of Edmond Dantes are laid out (although too brief for me) in historically correct detail.<br />Even though this movie loosely follows Dumas' book, the story has such a karmic ending that it always lifts my sprits.\\n\""
      ]
     },
     "execution_count": 68,
     "metadata": {},
     "output_type": "execute_result"
    }
   ],
   "source": [
    "amovies[0]"
   ]
  },
  {
   "cell_type": "code",
   "execution_count": null,
   "metadata": {
    "scrolled": true
   },
   "outputs": [],
   "source": [
    "from gensim.models.doc2vec import Doc2Vec, TaggedDocument\n",
    "from nltk.tokenize import word_tokenize\n",
    "tagged_data = [TaggedDocument(words=word_tokenize(_d.lower()), tags=[atags[i]]) for i, _d in enumerate(amovies[:10000])]"
   ]
  },
  {
   "cell_type": "code",
   "execution_count": 75,
   "metadata": {},
   "outputs": [
    {
     "name": "stderr",
     "output_type": "stream",
     "text": [
      "C:\\Program Files (x86)\\Microsoft Visual Studio\\Shared\\Anaconda3_64\\lib\\site-packages\\gensim\\models\\doc2vec.py:579: UserWarning: The parameter `size` is deprecated, will be removed in 4.0.0, use `vector_size` instead.\n",
      "  warnings.warn(\"The parameter `size` is deprecated, will be removed in 4.0.0, use `vector_size` instead.\")\n"
     ]
    }
   ],
   "source": [
    "max_epochs = 100\n",
    "vec_size = 20\n",
    "alpha = 0.025\n",
    "\n",
    "model = Doc2Vec(size=vec_size,\n",
    "                alpha=alpha, \n",
    "                min_alpha=0.00025,\n",
    "                min_count=1,\n",
    "                dm =1)\n",
    "  \n",
    "model.build_vocab(tagged_data)\n"
   ]
  },
  {
   "cell_type": "code",
   "execution_count": 76,
   "metadata": {
    "scrolled": true
   },
   "outputs": [
    {
     "name": "stdout",
     "output_type": "stream",
     "text": [
      "Word2Vec vocabulary length:  45628\n"
     ]
    }
   ],
   "source": [
    "print(\"Word2Vec vocabulary length: \", len(model.wv.vocab))"
   ]
  },
  {
   "cell_type": "code",
   "execution_count": 77,
   "metadata": {},
   "outputs": [
    {
     "data": {
      "text/plain": [
       "TaggedDocument(words=['review/text', ':', 'this', 'is', 'one', 'of', 'my', 'all-time', 'favorite', 'movies', 'for', 'escaping', 'from', 'worldly', 'work', '.', 'jim', 'caviezel', 'and', 'guy', 'pierce', 'have', 'great', 'chemistry', 'and', 'the', 'trials', 'of', 'edmond', 'dantes', 'are', 'laid', 'out', '(', 'although', 'too', 'brief', 'for', 'me', ')', 'in', 'historically', 'correct', 'detail.', '<', 'br', '/', '>', 'even', 'though', 'this', 'movie', 'loosely', 'follows', 'dumas', \"'\", 'book', ',', 'the', 'story', 'has', 'such', 'a', 'karmic', 'ending', 'that', 'it', 'always', 'lifts', 'my', 'sprits', '.'], tags=['product/productId: B000063W1R\\n'])"
      ]
     },
     "execution_count": 77,
     "metadata": {},
     "output_type": "execute_result"
    }
   ],
   "source": [
    "tagged_data[0]"
   ]
  },
  {
   "cell_type": "code",
   "execution_count": 81,
   "metadata": {
    "scrolled": true
   },
   "outputs": [
    {
     "name": "stdout",
     "output_type": "stream",
     "text": [
      "[('product/productId: B0001G6PZC\\n', 0.37979960441589355), ('product/productId: B000FVQLQQ\\n', 0.33286386728286743), ('product/productId: 5556167281\\n', 0.26530563831329346), ('product/productId: B00151QYU8\\n', 0.25443241000175476), ('product/productId: 6304675771\\n', 0.25094324350357056), ('product/productId: B0000DK4QK\\n', 0.21609629690647125), ('product/productId: B0002B55DE\\n', 0.19313490390777588), ('product/productId: B0000DK4QI\\n', 0.1890326738357544), ('product/productId: B002YJMMBA\\n', 0.1720971316099167), ('product/productId: B001NFNFMQ\\n', 0.09964695572853088)]\n"
     ]
    }
   ],
   "source": [
    "similar_doc = model.docvecs.most_similar('product/productId: B000063W1R\\n')\n",
    "print(similar_doc)"
   ]
  },
  {
   "cell_type": "code",
   "execution_count": null,
   "metadata": {},
   "outputs": [],
   "source": []
  }
 ],
 "metadata": {
  "kernelspec": {
   "display_name": "Python 3",
   "language": "python",
   "name": "python3"
  }
 },
 "nbformat": 4,
 "nbformat_minor": 2
}
