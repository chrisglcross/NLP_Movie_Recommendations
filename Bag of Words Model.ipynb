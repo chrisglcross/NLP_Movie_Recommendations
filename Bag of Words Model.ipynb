{
 "cells": [
  {
   "cell_type": "code",
   "execution_count": 2,
   "metadata": {},
   "outputs": [
    {
     "data": {
      "text/html": [
       "<div>\n",
       "<style scoped>\n",
       "    .dataframe tbody tr th:only-of-type {\n",
       "        vertical-align: middle;\n",
       "    }\n",
       "\n",
       "    .dataframe tbody tr th {\n",
       "        vertical-align: top;\n",
       "    }\n",
       "\n",
       "    .dataframe thead th {\n",
       "        text-align: right;\n",
       "    }\n",
       "</style>\n",
       "<table border=\"1\" class=\"dataframe\">\n",
       "  <thead>\n",
       "    <tr style=\"text-align: right;\">\n",
       "      <th></th>\n",
       "      <th>Title</th>\n",
       "      <th>Genre</th>\n",
       "      <th>Director</th>\n",
       "      <th>Actors</th>\n",
       "      <th>Plot</th>\n",
       "    </tr>\n",
       "  </thead>\n",
       "  <tbody>\n",
       "    <tr>\n",
       "      <th>0</th>\n",
       "      <td>The Shawshank Redemption</td>\n",
       "      <td>Crime, Drama</td>\n",
       "      <td>Frank Darabont</td>\n",
       "      <td>Tim Robbins, Morgan Freeman, Bob Gunton, Willi...</td>\n",
       "      <td>Two imprisoned men bond over a number of years...</td>\n",
       "    </tr>\n",
       "    <tr>\n",
       "      <th>1</th>\n",
       "      <td>The Godfather</td>\n",
       "      <td>Crime, Drama</td>\n",
       "      <td>Francis Ford Coppola</td>\n",
       "      <td>Marlon Brando, Al Pacino, James Caan, Richard ...</td>\n",
       "      <td>The aging patriarch of an organized crime dyna...</td>\n",
       "    </tr>\n",
       "    <tr>\n",
       "      <th>2</th>\n",
       "      <td>The Godfather: Part II</td>\n",
       "      <td>Crime, Drama</td>\n",
       "      <td>Francis Ford Coppola</td>\n",
       "      <td>Al Pacino, Robert Duvall, Diane Keaton, Robert...</td>\n",
       "      <td>The early life and career of Vito Corleone in ...</td>\n",
       "    </tr>\n",
       "    <tr>\n",
       "      <th>3</th>\n",
       "      <td>The Dark Knight</td>\n",
       "      <td>Action, Crime, Drama</td>\n",
       "      <td>Christopher Nolan</td>\n",
       "      <td>Christian Bale, Heath Ledger, Aaron Eckhart, M...</td>\n",
       "      <td>When the menace known as the Joker emerges fro...</td>\n",
       "    </tr>\n",
       "    <tr>\n",
       "      <th>4</th>\n",
       "      <td>12 Angry Men</td>\n",
       "      <td>Crime, Drama</td>\n",
       "      <td>Sidney Lumet</td>\n",
       "      <td>Martin Balsam, John Fiedler, Lee J. Cobb, E.G....</td>\n",
       "      <td>A jury holdout attempts to prevent a miscarria...</td>\n",
       "    </tr>\n",
       "  </tbody>\n",
       "</table>\n",
       "</div>"
      ],
      "text/plain": [
       "                      Title                 Genre              Director  \\\n",
       "0  The Shawshank Redemption          Crime, Drama        Frank Darabont   \n",
       "1             The Godfather          Crime, Drama  Francis Ford Coppola   \n",
       "2    The Godfather: Part II          Crime, Drama  Francis Ford Coppola   \n",
       "3           The Dark Knight  Action, Crime, Drama     Christopher Nolan   \n",
       "4              12 Angry Men          Crime, Drama          Sidney Lumet   \n",
       "\n",
       "                                              Actors  \\\n",
       "0  Tim Robbins, Morgan Freeman, Bob Gunton, Willi...   \n",
       "1  Marlon Brando, Al Pacino, James Caan, Richard ...   \n",
       "2  Al Pacino, Robert Duvall, Diane Keaton, Robert...   \n",
       "3  Christian Bale, Heath Ledger, Aaron Eckhart, M...   \n",
       "4  Martin Balsam, John Fiedler, Lee J. Cobb, E.G....   \n",
       "\n",
       "                                                Plot  \n",
       "0  Two imprisoned men bond over a number of years...  \n",
       "1  The aging patriarch of an organized crime dyna...  \n",
       "2  The early life and career of Vito Corleone in ...  \n",
       "3  When the menace known as the Joker emerges fro...  \n",
       "4  A jury holdout attempts to prevent a miscarria...  "
      ]
     },
     "execution_count": 2,
     "metadata": {},
     "output_type": "execute_result"
    }
   ],
   "source": [
    "import pandas as pd\n",
    "from rake_nltk import Rake\n",
    "import numpy as np\n",
    "from sklearn.metrics.pairwise import cosine_similarity\n",
    "from sklearn.feature_extraction.text import CountVectorizer\n",
    "\n",
    "df = pd.read_csv('https://query.data.world/s/uikepcpffyo2nhig52xxeevdialfl7')\n",
    "\n",
    "df = df[['Title','Genre','Director','Actors','Plot']]\n",
    "df.head()"
   ]
  },
  {
   "cell_type": "code",
   "execution_count": 3,
   "metadata": {},
   "outputs": [],
   "source": [
    "df['Actors'] = df['Actors'].map(lambda x: x.split(',')[:3])\n",
    "df['Genre'] = df['Genre'].map(lambda x: x.lower().split(','))\n",
    "df['Director'] = df['Director'].map(lambda x: x.split(' '))\n",
    "for index, row in df.iterrows():\n",
    "    row['Actors'] = [x.lower().replace(' ','') for x in row['Actors']]\n",
    "    row['Director'] = ''.join(row['Director']).lower()"
   ]
  },
  {
   "cell_type": "code",
   "execution_count": 4,
   "metadata": {},
   "outputs": [],
   "source": [
    "df['Key_words'] = \"\"\n",
    "\n",
    "for index, row in df.iterrows():\n",
    "    plot = row['Plot']\n",
    "    r = Rake()\n",
    "    r.extract_keywords_from_text(plot)\n",
    "    key_words_dict_scores = r.get_word_degrees()\n",
    "    row['Key_words'] = list(key_words_dict_scores.keys())\n",
    "\n",
    "df.drop(columns = ['Plot'], inplace = True)"
   ]
  },
  {
   "cell_type": "code",
   "execution_count": 5,
   "metadata": {},
   "outputs": [
    {
     "data": {
      "text/html": [
       "<div>\n",
       "<style scoped>\n",
       "    .dataframe tbody tr th:only-of-type {\n",
       "        vertical-align: middle;\n",
       "    }\n",
       "\n",
       "    .dataframe tbody tr th {\n",
       "        vertical-align: top;\n",
       "    }\n",
       "\n",
       "    .dataframe thead th {\n",
       "        text-align: right;\n",
       "    }\n",
       "</style>\n",
       "<table border=\"1\" class=\"dataframe\">\n",
       "  <thead>\n",
       "    <tr style=\"text-align: right;\">\n",
       "      <th></th>\n",
       "      <th>Genre</th>\n",
       "      <th>Director</th>\n",
       "      <th>Actors</th>\n",
       "      <th>Key_words</th>\n",
       "    </tr>\n",
       "    <tr>\n",
       "      <th>Title</th>\n",
       "      <th></th>\n",
       "      <th></th>\n",
       "      <th></th>\n",
       "      <th></th>\n",
       "    </tr>\n",
       "  </thead>\n",
       "  <tbody>\n",
       "    <tr>\n",
       "      <th>The Shawshank Redemption</th>\n",
       "      <td>[crime,  drama]</td>\n",
       "      <td>frankdarabont</td>\n",
       "      <td>[timrobbins, morganfreeman, bobgunton]</td>\n",
       "      <td>[two, imprisoned, men, bond, acts, eventual, r...</td>\n",
       "    </tr>\n",
       "    <tr>\n",
       "      <th>The Godfather</th>\n",
       "      <td>[crime,  drama]</td>\n",
       "      <td>francisfordcoppola</td>\n",
       "      <td>[marlonbrando, alpacino, jamescaan]</td>\n",
       "      <td>[clandestine, empire, organized, crime, dynast...</td>\n",
       "    </tr>\n",
       "    <tr>\n",
       "      <th>The Godfather: Part II</th>\n",
       "      <td>[crime,  drama]</td>\n",
       "      <td>francisfordcoppola</td>\n",
       "      <td>[alpacino, robertduvall, dianekeaton]</td>\n",
       "      <td>[family, crime, syndicate, 1920s, new, york, t...</td>\n",
       "    </tr>\n",
       "    <tr>\n",
       "      <th>The Dark Knight</th>\n",
       "      <td>[action,  crime,  drama]</td>\n",
       "      <td>christophernolan</td>\n",
       "      <td>[christianbale, heathledger, aaroneckhart]</td>\n",
       "      <td>[dark, knight, must, accept, one, joker, emerg...</td>\n",
       "    </tr>\n",
       "    <tr>\n",
       "      <th>12 Angry Men</th>\n",
       "      <td>[crime,  drama]</td>\n",
       "      <td>sidneylumet</td>\n",
       "      <td>[martinbalsam, johnfiedler, leej.cobb]</td>\n",
       "      <td>[colleagues, evidence, jury, holdout, attempts...</td>\n",
       "    </tr>\n",
       "  </tbody>\n",
       "</table>\n",
       "</div>"
      ],
      "text/plain": [
       "                                             Genre            Director  \\\n",
       "Title                                                                    \n",
       "The Shawshank Redemption           [crime,  drama]       frankdarabont   \n",
       "The Godfather                      [crime,  drama]  francisfordcoppola   \n",
       "The Godfather: Part II             [crime,  drama]  francisfordcoppola   \n",
       "The Dark Knight           [action,  crime,  drama]    christophernolan   \n",
       "12 Angry Men                       [crime,  drama]         sidneylumet   \n",
       "\n",
       "                                                              Actors  \\\n",
       "Title                                                                  \n",
       "The Shawshank Redemption      [timrobbins, morganfreeman, bobgunton]   \n",
       "The Godfather                    [marlonbrando, alpacino, jamescaan]   \n",
       "The Godfather: Part II         [alpacino, robertduvall, dianekeaton]   \n",
       "The Dark Knight           [christianbale, heathledger, aaroneckhart]   \n",
       "12 Angry Men                  [martinbalsam, johnfiedler, leej.cobb]   \n",
       "\n",
       "                                                                  Key_words  \n",
       "Title                                                                        \n",
       "The Shawshank Redemption  [two, imprisoned, men, bond, acts, eventual, r...  \n",
       "The Godfather             [clandestine, empire, organized, crime, dynast...  \n",
       "The Godfather: Part II    [family, crime, syndicate, 1920s, new, york, t...  \n",
       "The Dark Knight           [dark, knight, must, accept, one, joker, emerg...  \n",
       "12 Angry Men              [colleagues, evidence, jury, holdout, attempts...  "
      ]
     },
     "execution_count": 5,
     "metadata": {},
     "output_type": "execute_result"
    }
   ],
   "source": [
    "df.set_index('Title', inplace = True)\n",
    "df.head()"
   ]
  },
  {
   "cell_type": "code",
   "execution_count": 6,
   "metadata": {},
   "outputs": [],
   "source": [
    "df['bag_of_words'] = ''\n",
    "columns = df.columns\n",
    "for index, row in df.iterrows():\n",
    "    words = ''\n",
    "    for col in columns:\n",
    "        if col != 'Director':\n",
    "            words = words + ' '.join(row[col])+ ' '\n",
    "        else:\n",
    "            words = words + row[col]+ ' '\n",
    "    row['bag_of_words'] = words\n",
    "    \n",
    "df.drop(columns = [col for col in df.columns if col!= 'bag_of_words'], inplace = True)"
   ]
  },
  {
   "cell_type": "code",
   "execution_count": 7,
   "metadata": {
    "scrolled": true
   },
   "outputs": [
    {
     "data": {
      "text/plain": [
       "Title\n",
       "The Shawshank Redemption                             crime  drama frankdarabont timrobbins morganfr...\n",
       "The Godfather                                        crime  drama francisfordcoppola marlonbrando a...\n",
       "The Godfather: Part II                               crime  drama francisfordcoppola alpacino rober...\n",
       "The Dark Knight                                      action  crime  drama christophernolan christia...\n",
       "12 Angry Men                                         crime  drama sidneylumet martinbalsam johnfied...\n",
       "Schindler's List                                     biography  drama  history stevenspielberg liam...\n",
       "The Lord of the Rings: The Return of the King        adventure  drama  fantasy peterjackson noelapp...\n",
       "Pulp Fiction                                         crime  drama quentintarantino timroth amandapl...\n",
       "Fight Club                                           drama davidfincher edwardnorton bradpitt meatl...\n",
       "The Lord of the Rings: The Fellowship of the Ring    adventure  drama  fantasy peterjackson alanhow...\n",
       "Forrest Gump                                         comedy  drama  romance robertzemeckis tomhanks...\n",
       "Star Wars: Episode V - The Empire Strikes Back       action  adventure  fantasy irvinkershner markh...\n",
       "Inception                                            action  adventure  sci-fi christophernolan leo...\n",
       "The Lord of the Rings: The Two Towers                adventure  drama  fantasy peterjackson bruceal...\n",
       "One Flew Over the Cuckoo's Nest                      drama milosforman michaelberryman peterbrocco ...\n",
       "Goodfellas                                           crime  drama martinscorsese robertdeniro rayli...\n",
       "The Matrix                                           action  sci-fi lanawachowski,lillywachowski ke...\n",
       "Star Wars: Episode IV - A New Hope                   action  adventure  fantasy georgelucas markham...\n",
       "Se7en                                                crime  drama  mystery davidfincher morganfreem...\n",
       "It's a Wonderful Life                                drama  family  fantasy frankcapra jamesstewart...\n",
       "The Silence of the Lambs                             crime  drama  thriller jonathandemme jodiefost...\n",
       "The Usual Suspects                                   crime  drama  mystery bryansinger stephenbaldw...\n",
       "Léon: The Professional                               crime  drama  thriller lucbesson jeanreno gary...\n",
       "Saving Private Ryan                                  drama  war stevenspielberg tomhanks tomsizemor...\n",
       "City Lights                                          comedy  drama  romance charleschaplin virginia...\n",
       "Interstellar                                         adventure  drama  sci-fi christophernolan elle...\n",
       "American History X                                   crime  drama tonykaye edwardnorton edwardfurlo...\n",
       "Modern Times                                         comedy  drama  family charleschaplin charlesch...\n",
       "Casablanca                                           drama  romance  war michaelcurtiz humphreyboga...\n",
       "The Green Mile                                       crime  drama  fantasy frankdarabont tomhanks d...\n",
       "                                                                           ...                        \n",
       "Notorious                                            drama  film-noir  romance alfredhitchcock cary...\n",
       "Harvey                                               comedy  drama  fantasy henrykoster wallaceford...\n",
       "The Martian                                          adventure  drama  sci-fi ridleyscott mattdamon...\n",
       "The Exorcist                                         horror williamfriedkin ellenburstyn maxvonsydo...\n",
       "Rio Bravo                                            action  drama  western howardhawks johnwayne d...\n",
       "The Philadelphia Story                               comedy  romance georgecukor carygrant katharin...\n",
       "Rope                                                 crime  drama  thriller alfredhitchcock johndal...\n",
       "The Big Sleep                                        crime  film-noir  mystery howardhawks humphrey...\n",
       "Pink Floyd: The Wall                                 animation  drama  fantasy alanparker bobgeldof...\n",
       "The King's Speech                                    biography  drama tomhooper colinfirth helenabo...\n",
       "A Christmas Story                                    comedy  family bobclark melindadillon darrenmc...\n",
       "The Graduate                                         comedy  drama mikenichols annebancroft dustinh...\n",
       "JFK                                                  drama  history  thriller oliverstone sallykirk...\n",
       "Sling Blade                                          drama billybobthornton billybobthornton dwight...\n",
       "Blood Diamond                                        adventure  drama  thriller edwardzwick leonard...\n",
       "Magnolia                                             drama paulthomasanderson pathealy genevievezwe...\n",
       "Rain Man                                             drama barrylevinson dustinhoffman tomcruise va...\n",
       "The Revenant                                         adventure  drama  thriller alejandrogonzáleziñ...\n",
       "The Nightmare Before Christmas                       animation  family  fantasy henryselick dannyel...\n",
       "The Manchurian Candidate                             drama  thriller johnfrankenheimer franksinatra...\n",
       "Deadpool                                             action  adventure  comedy timmiller ryanreynol...\n",
       "The Wild Bunch                                       action  adventure  western sampeckinpah willia...\n",
       "Aladdin                                              animation  adventure  comedy ronclements,johnm...\n",
       "Big Fish                                             adventure  drama  fantasy timburton ewanmcgreg...\n",
       "Patton                                               biography  drama  war franklinj.schaffner geor...\n",
       "The Lost Weekend                                     drama  film-noir billywilder raymilland janewy...\n",
       "Short Term 12                                        drama destindanielcretton brielarson johngalla...\n",
       "His Girl Friday                                      comedy  drama  romance howardhawks carygrant r...\n",
       "The Straight Story                                   biography  drama davidlynch sissyspacek janega...\n",
       "Slumdog Millionaire                                  drama dannyboyle,loveleentandan devpatel saura...\n",
       "Name: bag_of_words, Length: 250, dtype: object"
      ]
     },
     "execution_count": 7,
     "metadata": {},
     "output_type": "execute_result"
    }
   ],
   "source": [
    "df['bag_of_words']"
   ]
  },
  {
   "cell_type": "code",
   "execution_count": 8,
   "metadata": {},
   "outputs": [
    {
     "data": {
      "text/plain": [
       "0    The Shawshank Redemption\n",
       "1               The Godfather\n",
       "2      The Godfather: Part II\n",
       "3             The Dark Knight\n",
       "4                12 Angry Men\n",
       "Name: Title, dtype: object"
      ]
     },
     "execution_count": 8,
     "metadata": {},
     "output_type": "execute_result"
    }
   ],
   "source": [
    "count = CountVectorizer()\n",
    "count_matrix = count.fit_transform(df['bag_of_words'])\n",
    "indices = pd.Series(df.index)\n",
    "indices[:5]"
   ]
  },
  {
   "cell_type": "code",
   "execution_count": 9,
   "metadata": {},
   "outputs": [
    {
     "data": {
      "text/plain": [
       "array([[1.        , 0.15789474, 0.13764944, ..., 0.05263158, 0.05263158,\n",
       "        0.05564149],\n",
       "       [0.15789474, 1.        , 0.36706517, ..., 0.05263158, 0.05263158,\n",
       "        0.05564149],\n",
       "       [0.13764944, 0.36706517, 1.        , ..., 0.04588315, 0.04588315,\n",
       "        0.04850713],\n",
       "       ...,\n",
       "       [0.05263158, 0.05263158, 0.04588315, ..., 1.        , 0.05263158,\n",
       "        0.05564149],\n",
       "       [0.05263158, 0.05263158, 0.04588315, ..., 0.05263158, 1.        ,\n",
       "        0.05564149],\n",
       "       [0.05564149, 0.05564149, 0.04850713, ..., 0.05564149, 0.05564149,\n",
       "        1.        ]])"
      ]
     },
     "execution_count": 9,
     "metadata": {},
     "output_type": "execute_result"
    }
   ],
   "source": [
    "cosine_sim = cosine_similarity(count_matrix, count_matrix)\n",
    "cosine_sim"
   ]
  },
  {
   "cell_type": "code",
   "execution_count": 13,
   "metadata": {},
   "outputs": [],
   "source": [
    "# function that takes in movie title as input and returns the top 10 recommended movies\n",
    "def recommendations(title, cosine_sim = cosine_sim):  \n",
    "    recommended_movies = []\n",
    "    idx = indices[indices == title].index[0]\n",
    "    score_series = pd.Series(cosine_sim[idx]).sort_values(ascending = False)\n",
    "    top_10_indexes = list(score_series.iloc[1:11].index)\n",
    "    for i in top_10_indexes:\n",
    "        recommended_movies.append(list(df.index)[i])     \n",
    "    return recommended_movies"
   ]
  },
  {
   "cell_type": "code",
   "execution_count": 15,
   "metadata": {},
   "outputs": [
    {
     "data": {
      "text/plain": [
       "['Interstellar',\n",
       " 'Aliens',\n",
       " 'Guardians of the Galaxy',\n",
       " 'Guardians of the Galaxy Vol. 2',\n",
       " 'Mad Max: Fury Road',\n",
       " 'Spider-Man: Homecoming',\n",
       " 'The Prestige',\n",
       " 'The Matrix',\n",
       " 'Batman Begins',\n",
       " '2001: A Space Odyssey']"
      ]
     },
     "execution_count": 15,
     "metadata": {},
     "output_type": "execute_result"
    }
   ],
   "source": [
    "recommendations('Inception')"
   ]
  }
 ],
 "metadata": {
  "kernelspec": {
   "display_name": "Python 3",
   "language": "python",
   "name": "python3"
  },
  "language_info": {
   "codemirror_mode": {
    "name": "ipython",
    "version": 3
   },
   "file_extension": ".py",
   "mimetype": "text/x-python",
   "name": "python",
   "nbconvert_exporter": "python",
   "pygments_lexer": "ipython3",
   "version": "3.6.5"
  }
 },
 "nbformat": 4,
 "nbformat_minor": 2
}
